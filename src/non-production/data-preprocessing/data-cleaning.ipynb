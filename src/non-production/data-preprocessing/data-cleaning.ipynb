{
 "cells": [
  {
   "cell_type": "code",
   "execution_count": 1,
   "metadata": {},
   "outputs": [],
   "source": [
    "import pandas as pd\n",
    "import numpy as np"
   ]
  },
  {
   "cell_type": "code",
   "execution_count": 2,
   "metadata": {},
   "outputs": [],
   "source": [
    "df = pd.read_csv(\"../../data/Iowa_Liquor_Sales_dirty.csv\",low_memory=False)"
   ]
  },
  {
   "cell_type": "code",
   "execution_count": 3,
   "metadata": {},
   "outputs": [
    {
     "data": {
      "text/plain": [
       "pandas.core.frame.DataFrame"
      ]
     },
     "execution_count": 3,
     "metadata": {},
     "output_type": "execute_result"
    }
   ],
   "source": [
    "type(df)"
   ]
  },
  {
   "cell_type": "code",
   "execution_count": 4,
   "metadata": {},
   "outputs": [
    {
     "data": {
      "text/plain": [
       "Index(['Invoice/Item Number', 'Date', 'Store Number', 'Store Name', 'Address',\n",
       "       'City', 'Zip Code', 'Store Location', 'County Number', 'County',\n",
       "       'Category', 'Category Name', 'Vendor Number', 'Vendor Name',\n",
       "       'Item Number', 'Item Description', 'Pack', 'Bottle Volume (ml)',\n",
       "       'State Bottle Cost', 'State Bottle Retail', 'Bottles Sold',\n",
       "       'Sale (Dollars)', 'Volume Sold (Liters)', 'Volume Sold (Gallons)'],\n",
       "      dtype='object')"
      ]
     },
     "execution_count": 4,
     "metadata": {},
     "output_type": "execute_result"
    }
   ],
   "source": [
    "df.columns"
   ]
  },
  {
   "cell_type": "code",
   "execution_count": 5,
   "metadata": {},
   "outputs": [],
   "source": [
    "df['State']= 'Iowa'"
   ]
  },
  {
   "cell_type": "code",
   "execution_count": 6,
   "metadata": {},
   "outputs": [
    {
     "data": {
      "text/plain": [
       "Index(['Invoice/ItemNumber', 'Date', 'StoreNumber', 'StoreName', 'Address',\n",
       "       'City', 'ZipCode', 'StoreLocation', 'CountyNumber', 'County',\n",
       "       'Category', 'CategoryName', 'VendorNumber', 'VendorName', 'ItemNumber',\n",
       "       'ItemDescription', 'Pack', 'BottleVolume(ml)', 'StateBottleCost',\n",
       "       'StateBottleRetail', 'BottlesSold', 'Sale(Dollars)',\n",
       "       'VolumeSold(Liters)', 'VolumeSold(Gallons)', 'State'],\n",
       "      dtype='object')"
      ]
     },
     "execution_count": 6,
     "metadata": {},
     "output_type": "execute_result"
    }
   ],
   "source": [
    "df.columns = [x.replace(' ', '') for x in df.columns]\n",
    "df.columns"
   ]
  },
  {
   "cell_type": "code",
   "execution_count": 7,
   "metadata": {},
   "outputs": [
    {
     "data": {
      "text/plain": [
       "[]"
      ]
     },
     "execution_count": 7,
     "metadata": {},
     "output_type": "execute_result"
    }
   ],
   "source": [
    "# Find the columns where every value is null\n",
    "empty_cols = [col for col in df.columns if df[col].isnull().all()]\n",
    "empty_cols"
   ]
  },
  {
   "cell_type": "code",
   "execution_count": 8,
   "metadata": {},
   "outputs": [
    {
     "name": "stdout",
     "output_type": "stream",
     "text": [
      "<class 'pandas.core.frame.DataFrame'>\n",
      "RangeIndex: 12591077 entries, 0 to 12591076\n",
      "Data columns (total 25 columns):\n",
      " #   Column               Dtype  \n",
      "---  ------               -----  \n",
      " 0   Invoice/ItemNumber   object \n",
      " 1   Date                 object \n",
      " 2   StoreNumber          int64  \n",
      " 3   StoreName            object \n",
      " 4   Address              object \n",
      " 5   City                 object \n",
      " 6   ZipCode              object \n",
      " 7   StoreLocation        object \n",
      " 8   CountyNumber         float64\n",
      " 9   County               object \n",
      " 10  Category             float64\n",
      " 11  CategoryName         object \n",
      " 12  VendorNumber         float64\n",
      " 13  VendorName           object \n",
      " 14  ItemNumber           int64  \n",
      " 15  ItemDescription      object \n",
      " 16  Pack                 int64  \n",
      " 17  BottleVolume(ml)     int64  \n",
      " 18  StateBottleCost      object \n",
      " 19  StateBottleRetail    object \n",
      " 20  BottlesSold          int64  \n",
      " 21  Sale(Dollars)        object \n",
      " 22  VolumeSold(Liters)   float64\n",
      " 23  VolumeSold(Gallons)  float64\n",
      " 24  State                object \n",
      "dtypes: float64(5), int64(5), object(15)\n",
      "memory usage: 2.3+ GB\n"
     ]
    }
   ],
   "source": [
    "df.info()"
   ]
  },
  {
   "cell_type": "code",
   "execution_count": 9,
   "metadata": {},
   "outputs": [
    {
     "data": {
      "text/html": [
       "<div>\n",
       "<style scoped>\n",
       "    .dataframe tbody tr th:only-of-type {\n",
       "        vertical-align: middle;\n",
       "    }\n",
       "\n",
       "    .dataframe tbody tr th {\n",
       "        vertical-align: top;\n",
       "    }\n",
       "\n",
       "    .dataframe thead th {\n",
       "        text-align: right;\n",
       "    }\n",
       "</style>\n",
       "<table border=\"1\" class=\"dataframe\">\n",
       "  <thead>\n",
       "    <tr style=\"text-align: right;\">\n",
       "      <th></th>\n",
       "      <th>Invoice/ItemNumber</th>\n",
       "      <th>Date</th>\n",
       "      <th>StoreNumber</th>\n",
       "      <th>StoreName</th>\n",
       "      <th>Address</th>\n",
       "      <th>City</th>\n",
       "      <th>ZipCode</th>\n",
       "      <th>StoreLocation</th>\n",
       "      <th>CountyNumber</th>\n",
       "      <th>County</th>\n",
       "      <th>...</th>\n",
       "      <th>ItemDescription</th>\n",
       "      <th>Pack</th>\n",
       "      <th>BottleVolume(ml)</th>\n",
       "      <th>StateBottleCost</th>\n",
       "      <th>StateBottleRetail</th>\n",
       "      <th>BottlesSold</th>\n",
       "      <th>Sale(Dollars)</th>\n",
       "      <th>VolumeSold(Liters)</th>\n",
       "      <th>VolumeSold(Gallons)</th>\n",
       "      <th>State</th>\n",
       "    </tr>\n",
       "  </thead>\n",
       "  <tbody>\n",
       "    <tr>\n",
       "      <th>0</th>\n",
       "      <td>S29198800001</td>\n",
       "      <td>11/20/2015</td>\n",
       "      <td>2191</td>\n",
       "      <td>Keokuk Spirits</td>\n",
       "      <td>1013 MAIN</td>\n",
       "      <td>KEOKUK</td>\n",
       "      <td>52632</td>\n",
       "      <td>1013 MAIN\\nKEOKUK 52632\\n(40.39978, -91.387531)</td>\n",
       "      <td>56.0</td>\n",
       "      <td>Lee</td>\n",
       "      <td>...</td>\n",
       "      <td>Templeton Rye w/Flask</td>\n",
       "      <td>6</td>\n",
       "      <td>750</td>\n",
       "      <td>$18.09</td>\n",
       "      <td>$27.14</td>\n",
       "      <td>6</td>\n",
       "      <td>$162.84</td>\n",
       "      <td>4.5</td>\n",
       "      <td>1.19</td>\n",
       "      <td>Iowa</td>\n",
       "    </tr>\n",
       "    <tr>\n",
       "      <th>1</th>\n",
       "      <td>S29195400002</td>\n",
       "      <td>11/21/2015</td>\n",
       "      <td>2205</td>\n",
       "      <td>Ding's Honk And Holler</td>\n",
       "      <td>900 E WASHINGTON</td>\n",
       "      <td>CLARINDA</td>\n",
       "      <td>51632</td>\n",
       "      <td>900 E WASHINGTON\\nCLARINDA 51632\\n(40.739238, ...</td>\n",
       "      <td>73.0</td>\n",
       "      <td>Page</td>\n",
       "      <td>...</td>\n",
       "      <td>Templeton Rye w/Flask</td>\n",
       "      <td>6</td>\n",
       "      <td>750</td>\n",
       "      <td>$18.09</td>\n",
       "      <td>$27.14</td>\n",
       "      <td>12</td>\n",
       "      <td>$325.68</td>\n",
       "      <td>9.0</td>\n",
       "      <td>2.38</td>\n",
       "      <td>Iowa</td>\n",
       "    </tr>\n",
       "  </tbody>\n",
       "</table>\n",
       "<p>2 rows × 25 columns</p>\n",
       "</div>"
      ],
      "text/plain": [
       "  Invoice/ItemNumber        Date  StoreNumber               StoreName  \\\n",
       "0       S29198800001  11/20/2015         2191          Keokuk Spirits   \n",
       "1       S29195400002  11/21/2015         2205  Ding's Honk And Holler   \n",
       "\n",
       "            Address      City ZipCode  \\\n",
       "0         1013 MAIN    KEOKUK   52632   \n",
       "1  900 E WASHINGTON  CLARINDA   51632   \n",
       "\n",
       "                                       StoreLocation  CountyNumber County  \\\n",
       "0    1013 MAIN\\nKEOKUK 52632\\n(40.39978, -91.387531)          56.0    Lee   \n",
       "1  900 E WASHINGTON\\nCLARINDA 51632\\n(40.739238, ...          73.0   Page   \n",
       "\n",
       "   ...        ItemDescription Pack  BottleVolume(ml) StateBottleCost  \\\n",
       "0  ...  Templeton Rye w/Flask    6               750          $18.09   \n",
       "1  ...  Templeton Rye w/Flask    6               750          $18.09   \n",
       "\n",
       "   StateBottleRetail BottlesSold  Sale(Dollars)  VolumeSold(Liters)  \\\n",
       "0             $27.14           6        $162.84                 4.5   \n",
       "1             $27.14          12        $325.68                 9.0   \n",
       "\n",
       "  VolumeSold(Gallons) State  \n",
       "0                1.19  Iowa  \n",
       "1                2.38  Iowa  \n",
       "\n",
       "[2 rows x 25 columns]"
      ]
     },
     "execution_count": 9,
     "metadata": {},
     "output_type": "execute_result"
    }
   ],
   "source": [
    "df.head(2)"
   ]
  },
  {
   "cell_type": "code",
   "execution_count": 10,
   "metadata": {},
   "outputs": [],
   "source": [
    "df.drop(columns=['StoreLocation'], inplace=True)"
   ]
  },
  {
   "cell_type": "code",
   "execution_count": 11,
   "metadata": {},
   "outputs": [],
   "source": [
    "df.drop(columns=['VolumeSold(Gallons)'], inplace=True)"
   ]
  },
  {
   "cell_type": "code",
   "execution_count": 12,
   "metadata": {},
   "outputs": [
    {
     "data": {
      "text/plain": [
       "Index(['Invoice/ItemNumber', 'Date', 'StoreNumber', 'StoreName', 'Address',\n",
       "       'City', 'ZipCode', 'CountyNumber', 'County', 'Category', 'CategoryName',\n",
       "       'VendorNumber', 'VendorName', 'ItemNumber', 'ItemDescription', 'Pack',\n",
       "       'BottleVolume(ml)', 'StateBottleCost', 'StateBottleRetail',\n",
       "       'BottlesSold', 'Sale(Dollars)', 'VolumeSold(Liters)', 'State'],\n",
       "      dtype='object')"
      ]
     },
     "execution_count": 12,
     "metadata": {},
     "output_type": "execute_result"
    }
   ],
   "source": [
    "df.columns"
   ]
  },
  {
   "cell_type": "code",
   "execution_count": 13,
   "metadata": {},
   "outputs": [
    {
     "data": {
      "text/plain": [
       "Index(['Invoice', 'Date', 'StoreNumber', 'StoreName', 'Address', 'City',\n",
       "       'ZipCode', 'CountyNumber', 'County', 'Category', 'CategoryName',\n",
       "       'VendorNumber', 'VendorName', 'ItemNumber', 'ItemDescription', 'Pack',\n",
       "       'BottleVolumeML', 'BottleCost', 'BottleRetail', 'BottlesSold',\n",
       "       'SaleDollars', 'VolumeSoldLiters', 'State'],\n",
       "      dtype='object')"
      ]
     },
     "execution_count": 13,
     "metadata": {},
     "output_type": "execute_result"
    }
   ],
   "source": [
    "df.rename(columns={'Invoice/ItemNumber': 'Invoice'}, inplace=True)\n",
    "df.rename(columns={'StateBottleCost': 'BottleCost'}, inplace=True)\n",
    "df.rename(columns={'StateBottleRetail': 'BottleRetail'}, inplace=True)\n",
    "df.rename(columns={'Sale(Dollars)': 'SaleDollars'}, inplace=True)\n",
    "df.rename(columns={'VolumeSold(Liters)': 'VolumeSoldLiters'}, inplace=True)\n",
    "df.rename(columns={'BottleVolume(ml)': 'BottleVolumeML'}, inplace=True)\n",
    "df.columns"
   ]
  },
  {
   "cell_type": "code",
   "execution_count": 14,
   "metadata": {},
   "outputs": [
    {
     "data": {
      "text/plain": [
       "Invoice             False\n",
       "Date                False\n",
       "StoreNumber         False\n",
       "StoreName           False\n",
       "Address              True\n",
       "City                 True\n",
       "ZipCode              True\n",
       "CountyNumber         True\n",
       "County               True\n",
       "Category             True\n",
       "CategoryName         True\n",
       "VendorNumber         True\n",
       "VendorName           True\n",
       "ItemNumber          False\n",
       "ItemDescription     False\n",
       "Pack                False\n",
       "BottleVolumeML      False\n",
       "BottleCost           True\n",
       "BottleRetail         True\n",
       "BottlesSold         False\n",
       "SaleDollars          True\n",
       "VolumeSoldLiters    False\n",
       "State               False\n",
       "dtype: bool"
      ]
     },
     "execution_count": 14,
     "metadata": {},
     "output_type": "execute_result"
    }
   ],
   "source": [
    "null_columns = df.isnull().any()\n",
    "null_columns"
   ]
  },
  {
   "cell_type": "code",
   "execution_count": 15,
   "metadata": {},
   "outputs": [],
   "source": [
    "df_without_nulls = df.dropna()"
   ]
  },
  {
   "cell_type": "code",
   "execution_count": 16,
   "metadata": {},
   "outputs": [
    {
     "name": "stdout",
     "output_type": "stream",
     "text": [
      "<class 'pandas.core.frame.DataFrame'>\n",
      "Index: 12495974 entries, 6 to 12591076\n",
      "Data columns (total 23 columns):\n",
      " #   Column            Dtype  \n",
      "---  ------            -----  \n",
      " 0   Invoice           object \n",
      " 1   Date              object \n",
      " 2   StoreNumber       int64  \n",
      " 3   StoreName         object \n",
      " 4   Address           object \n",
      " 5   City              object \n",
      " 6   ZipCode           object \n",
      " 7   CountyNumber      float64\n",
      " 8   County            object \n",
      " 9   Category          float64\n",
      " 10  CategoryName      object \n",
      " 11  VendorNumber      float64\n",
      " 12  VendorName        object \n",
      " 13  ItemNumber        int64  \n",
      " 14  ItemDescription   object \n",
      " 15  Pack              int64  \n",
      " 16  BottleVolumeML    int64  \n",
      " 17  BottleCost        object \n",
      " 18  BottleRetail      object \n",
      " 19  BottlesSold       int64  \n",
      " 20  SaleDollars       object \n",
      " 21  VolumeSoldLiters  float64\n",
      " 22  State             object \n",
      "dtypes: float64(4), int64(5), object(14)\n",
      "memory usage: 2.2+ GB\n"
     ]
    }
   ],
   "source": [
    "df_without_nulls.info()"
   ]
  },
  {
   "cell_type": "code",
   "execution_count": 17,
   "metadata": {},
   "outputs": [
    {
     "name": "stderr",
     "output_type": "stream",
     "text": [
      "/tmp/ipykernel_965759/2922440719.py:2: SettingWithCopyWarning: \n",
      "A value is trying to be set on a copy of a slice from a DataFrame.\n",
      "Try using .loc[row_indexer,col_indexer] = value instead\n",
      "\n",
      "See the caveats in the documentation: https://pandas.pydata.org/pandas-docs/stable/user_guide/indexing.html#returning-a-view-versus-a-copy\n",
      "  df_without_nulls[\"EmployeeID\"] = np.random.choice(employeeID, size=len(df_without_nulls))\n"
     ]
    }
   ],
   "source": [
    "employeeID = [\"20001\",\"20002\",\"20003\",\"20004\",\"20005\",\"20006\",\"20007\",\"20008\"]\n",
    "df_without_nulls[\"EmployeeID\"] = np.random.choice(employeeID, size=len(df_without_nulls))"
   ]
  },
  {
   "cell_type": "code",
   "execution_count": 18,
   "metadata": {},
   "outputs": [],
   "source": [
    "df2 = df_without_nulls.copy()\n",
    "df2['Date'] = pd.to_datetime(df2['Date'])\n",
    "df_sorted = df2.sort_values(by='Date',kind='mergesort')"
   ]
  },
  {
   "cell_type": "code",
   "execution_count": 19,
   "metadata": {},
   "outputs": [
    {
     "name": "stdout",
     "output_type": "stream",
     "text": [
      "Date Range:\n",
      "From: 2012-01-03 00:00:00\n",
      "To: 2017-10-31 00:00:00\n"
     ]
    }
   ],
   "source": [
    "min_date = df_sorted['Date'].min()\n",
    "max_date = df_sorted['Date'].max()\n",
    "\n",
    "print(\"Date Range:\")\n",
    "print(\"From:\", min_date)\n",
    "print(\"To:\", max_date)"
   ]
  },
  {
   "cell_type": "code",
   "execution_count": 20,
   "metadata": {},
   "outputs": [
    {
     "data": {
      "text/html": [
       "<div>\n",
       "<style scoped>\n",
       "    .dataframe tbody tr th:only-of-type {\n",
       "        vertical-align: middle;\n",
       "    }\n",
       "\n",
       "    .dataframe tbody tr th {\n",
       "        vertical-align: top;\n",
       "    }\n",
       "\n",
       "    .dataframe thead th {\n",
       "        text-align: right;\n",
       "    }\n",
       "</style>\n",
       "<table border=\"1\" class=\"dataframe\">\n",
       "  <thead>\n",
       "    <tr style=\"text-align: right;\">\n",
       "      <th></th>\n",
       "      <th>Invoice</th>\n",
       "      <th>Date</th>\n",
       "      <th>StoreNumber</th>\n",
       "      <th>StoreName</th>\n",
       "      <th>Address</th>\n",
       "      <th>City</th>\n",
       "      <th>ZipCode</th>\n",
       "      <th>CountyNumber</th>\n",
       "      <th>County</th>\n",
       "      <th>Category</th>\n",
       "      <th>...</th>\n",
       "      <th>ItemDescription</th>\n",
       "      <th>Pack</th>\n",
       "      <th>BottleVolumeML</th>\n",
       "      <th>BottleCost</th>\n",
       "      <th>BottleRetail</th>\n",
       "      <th>BottlesSold</th>\n",
       "      <th>SaleDollars</th>\n",
       "      <th>VolumeSoldLiters</th>\n",
       "      <th>State</th>\n",
       "      <th>EmployeeID</th>\n",
       "    </tr>\n",
       "  </thead>\n",
       "  <tbody>\n",
       "    <tr>\n",
       "      <th>275</th>\n",
       "      <td>S03409700120</td>\n",
       "      <td>2012-01-03</td>\n",
       "      <td>2534</td>\n",
       "      <td>Hy-Vee Drugtown / Urbandale</td>\n",
       "      <td>8601 DOUGLAS</td>\n",
       "      <td>URBANDALE</td>\n",
       "      <td>50322</td>\n",
       "      <td>77.0</td>\n",
       "      <td>Polk</td>\n",
       "      <td>1022100.0</td>\n",
       "      <td>...</td>\n",
       "      <td>Sauza Gold</td>\n",
       "      <td>12</td>\n",
       "      <td>750</td>\n",
       "      <td>$8.40</td>\n",
       "      <td>$12.59</td>\n",
       "      <td>4</td>\n",
       "      <td>$50.36</td>\n",
       "      <td>3.00</td>\n",
       "      <td>Iowa</td>\n",
       "      <td>20006</td>\n",
       "    </tr>\n",
       "    <tr>\n",
       "      <th>741</th>\n",
       "      <td>S03395700029</td>\n",
       "      <td>2012-01-03</td>\n",
       "      <td>3480</td>\n",
       "      <td>C's Spencer Liquor</td>\n",
       "      <td>719  2ND AVE W PO BOX 401</td>\n",
       "      <td>SPENCER</td>\n",
       "      <td>51301</td>\n",
       "      <td>21.0</td>\n",
       "      <td>Clay</td>\n",
       "      <td>1031200.0</td>\n",
       "      <td>...</td>\n",
       "      <td>Uv Blue (raspberry) Vodka</td>\n",
       "      <td>12</td>\n",
       "      <td>1000</td>\n",
       "      <td>$7.25</td>\n",
       "      <td>$10.87</td>\n",
       "      <td>3</td>\n",
       "      <td>$32.61</td>\n",
       "      <td>3.00</td>\n",
       "      <td>Iowa</td>\n",
       "      <td>20001</td>\n",
       "    </tr>\n",
       "    <tr>\n",
       "      <th>1655</th>\n",
       "      <td>S03395800163</td>\n",
       "      <td>2012-01-03</td>\n",
       "      <td>2616</td>\n",
       "      <td>Hy-Vee Food and Drug / Clinton</td>\n",
       "      <td>901 SOUTH 4TH ST</td>\n",
       "      <td>CLINTON</td>\n",
       "      <td>52732</td>\n",
       "      <td>23.0</td>\n",
       "      <td>Clinton</td>\n",
       "      <td>1022100.0</td>\n",
       "      <td>...</td>\n",
       "      <td>Jose Cuervo Especial Reposado Flask</td>\n",
       "      <td>24</td>\n",
       "      <td>375</td>\n",
       "      <td>$5.49</td>\n",
       "      <td>$8.24</td>\n",
       "      <td>3</td>\n",
       "      <td>$24.72</td>\n",
       "      <td>1.12</td>\n",
       "      <td>Iowa</td>\n",
       "      <td>20001</td>\n",
       "    </tr>\n",
       "    <tr>\n",
       "      <th>1782</th>\n",
       "      <td>S03411000130</td>\n",
       "      <td>2012-01-03</td>\n",
       "      <td>2625</td>\n",
       "      <td>Hy-Vee Wine and Spirits #2</td>\n",
       "      <td>3301 W KIMBERLY RD</td>\n",
       "      <td>DAVENPORT</td>\n",
       "      <td>52804</td>\n",
       "      <td>82.0</td>\n",
       "      <td>Scott</td>\n",
       "      <td>1031200.0</td>\n",
       "      <td>...</td>\n",
       "      <td>Smirnoff Cranberry Vodka</td>\n",
       "      <td>12</td>\n",
       "      <td>750</td>\n",
       "      <td>$7.59</td>\n",
       "      <td>$11.56</td>\n",
       "      <td>2</td>\n",
       "      <td>$23.12</td>\n",
       "      <td>1.50</td>\n",
       "      <td>Iowa</td>\n",
       "      <td>20007</td>\n",
       "    </tr>\n",
       "    <tr>\n",
       "      <th>1801</th>\n",
       "      <td>S03412100043</td>\n",
       "      <td>2012-01-03</td>\n",
       "      <td>2603</td>\n",
       "      <td>Hy-Vee Wine and Spirits / Bettendorf</td>\n",
       "      <td>2890 DEVILS GLEN ROAD</td>\n",
       "      <td>BETTENDORF</td>\n",
       "      <td>52722</td>\n",
       "      <td>82.0</td>\n",
       "      <td>Scott</td>\n",
       "      <td>1031080.0</td>\n",
       "      <td>...</td>\n",
       "      <td>Skol Vodka Traveler</td>\n",
       "      <td>12</td>\n",
       "      <td>750</td>\n",
       "      <td>$3.64</td>\n",
       "      <td>$5.45</td>\n",
       "      <td>12</td>\n",
       "      <td>$65.40</td>\n",
       "      <td>9.00</td>\n",
       "      <td>Iowa</td>\n",
       "      <td>20006</td>\n",
       "    </tr>\n",
       "  </tbody>\n",
       "</table>\n",
       "<p>5 rows × 24 columns</p>\n",
       "</div>"
      ],
      "text/plain": [
       "           Invoice       Date  StoreNumber  \\\n",
       "275   S03409700120 2012-01-03         2534   \n",
       "741   S03395700029 2012-01-03         3480   \n",
       "1655  S03395800163 2012-01-03         2616   \n",
       "1782  S03411000130 2012-01-03         2625   \n",
       "1801  S03412100043 2012-01-03         2603   \n",
       "\n",
       "                                 StoreName                    Address  \\\n",
       "275            Hy-Vee Drugtown / Urbandale               8601 DOUGLAS   \n",
       "741                     C's Spencer Liquor  719  2ND AVE W PO BOX 401   \n",
       "1655        Hy-Vee Food and Drug / Clinton           901 SOUTH 4TH ST   \n",
       "1782            Hy-Vee Wine and Spirits #2         3301 W KIMBERLY RD   \n",
       "1801  Hy-Vee Wine and Spirits / Bettendorf      2890 DEVILS GLEN ROAD   \n",
       "\n",
       "            City ZipCode  CountyNumber   County   Category  ...  \\\n",
       "275    URBANDALE   50322          77.0     Polk  1022100.0  ...   \n",
       "741      SPENCER   51301          21.0     Clay  1031200.0  ...   \n",
       "1655     CLINTON   52732          23.0  Clinton  1022100.0  ...   \n",
       "1782   DAVENPORT   52804          82.0    Scott  1031200.0  ...   \n",
       "1801  BETTENDORF   52722          82.0    Scott  1031080.0  ...   \n",
       "\n",
       "                          ItemDescription  Pack BottleVolumeML  BottleCost  \\\n",
       "275                            Sauza Gold    12            750       $8.40   \n",
       "741             Uv Blue (raspberry) Vodka    12           1000       $7.25   \n",
       "1655  Jose Cuervo Especial Reposado Flask    24            375       $5.49   \n",
       "1782             Smirnoff Cranberry Vodka    12            750       $7.59   \n",
       "1801                  Skol Vodka Traveler    12            750       $3.64   \n",
       "\n",
       "     BottleRetail  BottlesSold  SaleDollars VolumeSoldLiters State  EmployeeID  \n",
       "275        $12.59            4       $50.36             3.00  Iowa       20006  \n",
       "741        $10.87            3       $32.61             3.00  Iowa       20001  \n",
       "1655        $8.24            3       $24.72             1.12  Iowa       20001  \n",
       "1782       $11.56            2       $23.12             1.50  Iowa       20007  \n",
       "1801        $5.45           12       $65.40             9.00  Iowa       20006  \n",
       "\n",
       "[5 rows x 24 columns]"
      ]
     },
     "execution_count": 20,
     "metadata": {},
     "output_type": "execute_result"
    }
   ],
   "source": [
    "df_sorted.head()"
   ]
  },
  {
   "cell_type": "code",
   "execution_count": 21,
   "metadata": {},
   "outputs": [
    {
     "data": {
      "text/html": [
       "<div>\n",
       "<style scoped>\n",
       "    .dataframe tbody tr th:only-of-type {\n",
       "        vertical-align: middle;\n",
       "    }\n",
       "\n",
       "    .dataframe tbody tr th {\n",
       "        vertical-align: top;\n",
       "    }\n",
       "\n",
       "    .dataframe thead th {\n",
       "        text-align: right;\n",
       "    }\n",
       "</style>\n",
       "<table border=\"1\" class=\"dataframe\">\n",
       "  <thead>\n",
       "    <tr style=\"text-align: right;\">\n",
       "      <th></th>\n",
       "      <th>Invoice</th>\n",
       "      <th>Date</th>\n",
       "      <th>StoreNumber</th>\n",
       "      <th>StoreName</th>\n",
       "      <th>Address</th>\n",
       "      <th>City</th>\n",
       "      <th>ZipCode</th>\n",
       "      <th>CountyNumber</th>\n",
       "      <th>County</th>\n",
       "      <th>Category</th>\n",
       "      <th>...</th>\n",
       "      <th>ItemDescription</th>\n",
       "      <th>Pack</th>\n",
       "      <th>BottleVolumeML</th>\n",
       "      <th>BottleCost</th>\n",
       "      <th>BottleRetail</th>\n",
       "      <th>BottlesSold</th>\n",
       "      <th>SaleDollars</th>\n",
       "      <th>VolumeSoldLiters</th>\n",
       "      <th>State</th>\n",
       "      <th>EmployeeID</th>\n",
       "    </tr>\n",
       "  </thead>\n",
       "  <tbody>\n",
       "    <tr>\n",
       "      <th>12591072</th>\n",
       "      <td>INV-08368000074</td>\n",
       "      <td>2017-10-31</td>\n",
       "      <td>5423</td>\n",
       "      <td>Stammer Liquor Corp</td>\n",
       "      <td>615 2nd Ave</td>\n",
       "      <td>Sheldon</td>\n",
       "      <td>51201</td>\n",
       "      <td>71.0</td>\n",
       "      <td>OBRIEN</td>\n",
       "      <td>1071100.0</td>\n",
       "      <td>...</td>\n",
       "      <td>FrappaChata Iced Coffee Blend</td>\n",
       "      <td>12</td>\n",
       "      <td>800</td>\n",
       "      <td>$8.00</td>\n",
       "      <td>$12.00</td>\n",
       "      <td>3</td>\n",
       "      <td>$12.00</td>\n",
       "      <td>2.4</td>\n",
       "      <td>Iowa</td>\n",
       "      <td>20008</td>\n",
       "    </tr>\n",
       "    <tr>\n",
       "      <th>12591073</th>\n",
       "      <td>INV-08368000075</td>\n",
       "      <td>2017-10-31</td>\n",
       "      <td>5423</td>\n",
       "      <td>Stammer Liquor Corp</td>\n",
       "      <td>615 2nd Ave</td>\n",
       "      <td>Sheldon</td>\n",
       "      <td>51201</td>\n",
       "      <td>71.0</td>\n",
       "      <td>OBRIEN</td>\n",
       "      <td>1011200.0</td>\n",
       "      <td>...</td>\n",
       "      <td>Old Forester Statesman</td>\n",
       "      <td>6</td>\n",
       "      <td>750</td>\n",
       "      <td>$27.48</td>\n",
       "      <td>$41.22</td>\n",
       "      <td>2</td>\n",
       "      <td>$41.22</td>\n",
       "      <td>1.5</td>\n",
       "      <td>Iowa</td>\n",
       "      <td>20006</td>\n",
       "    </tr>\n",
       "    <tr>\n",
       "      <th>12591074</th>\n",
       "      <td>INV-08368000076</td>\n",
       "      <td>2017-10-31</td>\n",
       "      <td>5423</td>\n",
       "      <td>Stammer Liquor Corp</td>\n",
       "      <td>615 2nd Ave</td>\n",
       "      <td>Sheldon</td>\n",
       "      <td>51201</td>\n",
       "      <td>71.0</td>\n",
       "      <td>OBRIEN</td>\n",
       "      <td>1011500.0</td>\n",
       "      <td>...</td>\n",
       "      <td>Old Forester 1897 Whisky Row Series</td>\n",
       "      <td>6</td>\n",
       "      <td>750</td>\n",
       "      <td>$24.98</td>\n",
       "      <td>$37.47</td>\n",
       "      <td>2</td>\n",
       "      <td>$37.47</td>\n",
       "      <td>1.5</td>\n",
       "      <td>Iowa</td>\n",
       "      <td>20001</td>\n",
       "    </tr>\n",
       "    <tr>\n",
       "      <th>12591075</th>\n",
       "      <td>INV-08368000077</td>\n",
       "      <td>2017-10-31</td>\n",
       "      <td>5423</td>\n",
       "      <td>Stammer Liquor Corp</td>\n",
       "      <td>615 2nd Ave</td>\n",
       "      <td>Sheldon</td>\n",
       "      <td>51201</td>\n",
       "      <td>71.0</td>\n",
       "      <td>OBRIEN</td>\n",
       "      <td>1011200.0</td>\n",
       "      <td>...</td>\n",
       "      <td>Old Forester 1870 Whisky Row Series</td>\n",
       "      <td>6</td>\n",
       "      <td>750</td>\n",
       "      <td>$22.49</td>\n",
       "      <td>$33.74</td>\n",
       "      <td>2</td>\n",
       "      <td>$33.74</td>\n",
       "      <td>1.5</td>\n",
       "      <td>Iowa</td>\n",
       "      <td>20003</td>\n",
       "    </tr>\n",
       "    <tr>\n",
       "      <th>12591076</th>\n",
       "      <td>INV-08368000078</td>\n",
       "      <td>2017-10-31</td>\n",
       "      <td>5423</td>\n",
       "      <td>Stammer Liquor Corp</td>\n",
       "      <td>615 2nd Ave</td>\n",
       "      <td>Sheldon</td>\n",
       "      <td>51201</td>\n",
       "      <td>71.0</td>\n",
       "      <td>OBRIEN</td>\n",
       "      <td>1091100.0</td>\n",
       "      <td>...</td>\n",
       "      <td>Sugarlands Shine Peanut Butter &amp; Jelly Moonshine</td>\n",
       "      <td>6</td>\n",
       "      <td>750</td>\n",
       "      <td>$13.00</td>\n",
       "      <td>$19.50</td>\n",
       "      <td>2</td>\n",
       "      <td>$19.50</td>\n",
       "      <td>1.5</td>\n",
       "      <td>Iowa</td>\n",
       "      <td>20003</td>\n",
       "    </tr>\n",
       "  </tbody>\n",
       "</table>\n",
       "<p>5 rows × 24 columns</p>\n",
       "</div>"
      ],
      "text/plain": [
       "                  Invoice       Date  StoreNumber            StoreName  \\\n",
       "12591072  INV-08368000074 2017-10-31         5423  Stammer Liquor Corp   \n",
       "12591073  INV-08368000075 2017-10-31         5423  Stammer Liquor Corp   \n",
       "12591074  INV-08368000076 2017-10-31         5423  Stammer Liquor Corp   \n",
       "12591075  INV-08368000077 2017-10-31         5423  Stammer Liquor Corp   \n",
       "12591076  INV-08368000078 2017-10-31         5423  Stammer Liquor Corp   \n",
       "\n",
       "              Address     City ZipCode  CountyNumber  County   Category  ...  \\\n",
       "12591072  615 2nd Ave  Sheldon   51201          71.0  OBRIEN  1071100.0  ...   \n",
       "12591073  615 2nd Ave  Sheldon   51201          71.0  OBRIEN  1011200.0  ...   \n",
       "12591074  615 2nd Ave  Sheldon   51201          71.0  OBRIEN  1011500.0  ...   \n",
       "12591075  615 2nd Ave  Sheldon   51201          71.0  OBRIEN  1011200.0  ...   \n",
       "12591076  615 2nd Ave  Sheldon   51201          71.0  OBRIEN  1091100.0  ...   \n",
       "\n",
       "                                           ItemDescription  Pack  \\\n",
       "12591072                     FrappaChata Iced Coffee Blend    12   \n",
       "12591073                            Old Forester Statesman     6   \n",
       "12591074               Old Forester 1897 Whisky Row Series     6   \n",
       "12591075               Old Forester 1870 Whisky Row Series     6   \n",
       "12591076  Sugarlands Shine Peanut Butter & Jelly Moonshine     6   \n",
       "\n",
       "         BottleVolumeML  BottleCost BottleRetail  BottlesSold  SaleDollars  \\\n",
       "12591072            800       $8.00       $12.00            3       $12.00   \n",
       "12591073            750      $27.48       $41.22            2       $41.22   \n",
       "12591074            750      $24.98       $37.47            2       $37.47   \n",
       "12591075            750      $22.49       $33.74            2       $33.74   \n",
       "12591076            750      $13.00       $19.50            2       $19.50   \n",
       "\n",
       "         VolumeSoldLiters State  EmployeeID  \n",
       "12591072              2.4  Iowa       20008  \n",
       "12591073              1.5  Iowa       20006  \n",
       "12591074              1.5  Iowa       20001  \n",
       "12591075              1.5  Iowa       20003  \n",
       "12591076              1.5  Iowa       20003  \n",
       "\n",
       "[5 rows x 24 columns]"
      ]
     },
     "execution_count": 21,
     "metadata": {},
     "output_type": "execute_result"
    }
   ],
   "source": [
    "df_sorted.tail()"
   ]
  },
  {
   "cell_type": "code",
   "execution_count": 22,
   "metadata": {},
   "outputs": [
    {
     "data": {
      "text/plain": [
       "Invoice             False\n",
       "Date                False\n",
       "StoreNumber         False\n",
       "StoreName           False\n",
       "Address             False\n",
       "City                False\n",
       "ZipCode             False\n",
       "CountyNumber        False\n",
       "County              False\n",
       "Category            False\n",
       "CategoryName        False\n",
       "VendorNumber        False\n",
       "VendorName          False\n",
       "ItemNumber          False\n",
       "ItemDescription     False\n",
       "Pack                False\n",
       "BottleVolumeML      False\n",
       "BottleCost          False\n",
       "BottleRetail        False\n",
       "BottlesSold         False\n",
       "SaleDollars         False\n",
       "VolumeSoldLiters    False\n",
       "State               False\n",
       "EmployeeID          False\n",
       "dtype: bool"
      ]
     },
     "execution_count": 22,
     "metadata": {},
     "output_type": "execute_result"
    }
   ],
   "source": [
    "null_columns2 = df_sorted.isnull().any()\n",
    "null_columns2"
   ]
  },
  {
   "cell_type": "code",
   "execution_count": 23,
   "metadata": {},
   "outputs": [],
   "source": [
    "df_sorted.to_csv(\"../../data/Iowa_Liquor_Sales_clean.csv\", index=False)"
   ]
  },
  {
   "cell_type": "code",
   "execution_count": 24,
   "metadata": {},
   "outputs": [],
   "source": [
    "df_subset = df_sorted.head(2100000).copy()"
   ]
  },
  {
   "cell_type": "code",
   "execution_count": 25,
   "metadata": {},
   "outputs": [
    {
     "name": "stdout",
     "output_type": "stream",
     "text": [
      "Date Range:\n",
      "From: 2012-01-03 00:00:00\n",
      "To: 2013-01-07 00:00:00\n"
     ]
    }
   ],
   "source": [
    "min_date = df_subset['Date'].min()\n",
    "max_date = df_subset['Date'].max()\n",
    "\n",
    "print(\"Date Range:\")\n",
    "print(\"From:\", min_date)\n",
    "print(\"To:\", max_date)"
   ]
  },
  {
   "cell_type": "code",
   "execution_count": 26,
   "metadata": {},
   "outputs": [],
   "source": [
    "df_subset.to_csv(\"../../data/subset-Iowa_Liquor_Sales_clean.csv\", index=False)"
   ]
  }
 ],
 "metadata": {
  "kernelspec": {
   "display_name": "base",
   "language": "python",
   "name": "python3"
  },
  "language_info": {
   "codemirror_mode": {
    "name": "ipython",
    "version": 3
   },
   "file_extension": ".py",
   "mimetype": "text/x-python",
   "name": "python",
   "nbconvert_exporter": "python",
   "pygments_lexer": "ipython3",
   "version": "3.11.8"
  }
 },
 "nbformat": 4,
 "nbformat_minor": 2
}
